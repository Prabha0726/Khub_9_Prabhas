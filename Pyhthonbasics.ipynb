{
  "nbformat": 4,
  "nbformat_minor": 0,
  "metadata": {
    "colab": {
      "provenance": [],
      "toc_visible": true,
      "authorship_tag": "ABX9TyN15/ZKp23QVYHm2SIxJnyd",
      "include_colab_link": true
    },
    "kernelspec": {
      "name": "python3",
      "display_name": "Python 3"
    },
    "language_info": {
      "name": "python"
    }
  },
  "cells": [
    {
      "cell_type": "markdown",
      "metadata": {
        "id": "view-in-github",
        "colab_type": "text"
      },
      "source": [
        "<a href=\"https://colab.research.google.com/github/Prabha0726/Khub_9_Prabhas/blob/main/Pyhthonbasics.ipynb\" target=\"_parent\"><img src=\"https://colab.research.google.com/assets/colab-badge.svg\" alt=\"Open In Colab\"/></a>"
      ]
    },
    {
      "cell_type": "markdown",
      "source": [],
      "metadata": {
        "id": "Ahu1Yud8KVb3"
      }
    },
    {
      "cell_type": "markdown",
      "source": [
        "1. Strings and String Methods\n",
        "String:     \n",
        " A sequence of characters enclosed in single, double, or triple quotes."
      ],
      "metadata": {
        "id": "0i9BeF3cK_XG"
      }
    },
    {
      "cell_type": "code",
      "source": [
        "name = \"Python\"\n",
        "print(name)"
      ],
      "metadata": {
        "colab": {
          "base_uri": "https://localhost:8080/"
        },
        "id": "suHtdgA5LAV-",
        "outputId": "5a8bb216-06c8-4050-a04c-c28caf6104cf"
      },
      "execution_count": null,
      "outputs": [
        {
          "output_type": "stream",
          "name": "stdout",
          "text": [
            "Python\n"
          ]
        }
      ]
    },
    {
      "cell_type": "markdown",
      "source": [
        "Common String Methods:\n",
        "upper() – Converts to uppercase"
      ],
      "metadata": {
        "id": "naUFZShsLJ6i"
      }
    },
    {
      "cell_type": "code",
      "source": [
        "print(\"hello\".upper())"
      ],
      "metadata": {
        "colab": {
          "base_uri": "https://localhost:8080/"
        },
        "id": "INiJALwELQa5",
        "outputId": "71285052-5f16-4694-83d5-1d78710eb4dd"
      },
      "execution_count": null,
      "outputs": [
        {
          "output_type": "stream",
          "name": "stdout",
          "text": [
            "HELLO\n"
          ]
        }
      ]
    },
    {
      "cell_type": "code",
      "source": [
        "print(\"HELLO\".lower())"
      ],
      "metadata": {
        "colab": {
          "base_uri": "https://localhost:8080/"
        },
        "id": "4JMihnXmLcVc",
        "outputId": "4f50782e-bc0a-49d7-ee4f-c25c812f3e00"
      },
      "execution_count": null,
      "outputs": [
        {
          "output_type": "stream",
          "name": "stdout",
          "text": [
            "hello\n"
          ]
        }
      ]
    },
    {
      "cell_type": "code",
      "source": [
        "print(\"  hello  \".strip())"
      ],
      "metadata": {
        "colab": {
          "base_uri": "https://localhost:8080/"
        },
        "id": "i087CaeiLemd",
        "outputId": "f7406559-49b6-49c5-f06a-190d4333cc27"
      },
      "execution_count": null,
      "outputs": [
        {
          "output_type": "stream",
          "name": "stdout",
          "text": [
            "hello\n"
          ]
        }
      ]
    },
    {
      "cell_type": "code",
      "source": [
        "print(\"I like Java\".replace(\"Java\", \"Python\"))"
      ],
      "metadata": {
        "colab": {
          "base_uri": "https://localhost:8080/"
        },
        "id": "BA5QnyhyLj9y",
        "outputId": "19d7dee3-5ef2-455f-9b3c-bd43f258cd54"
      },
      "execution_count": null,
      "outputs": [
        {
          "output_type": "stream",
          "name": "stdout",
          "text": [
            "I like Python\n"
          ]
        }
      ]
    },
    {
      "cell_type": "markdown",
      "source": [],
      "metadata": {
        "id": "4-Lx5tWRLyv2"
      }
    },
    {
      "cell_type": "markdown",
      "source": [
        "2. Booleans and Operators\n",
        "Booleans represent two values only:\n",
        "\n",
        "True\n",
        "\n",
        "False\n",
        "\n",
        "These are used to make decisions and control the flow of a program."
      ],
      "metadata": {
        "id": "wGw8TWktLy3I"
      }
    },
    {
      "cell_type": "markdown",
      "source": [
        "Boolean values: True or False"
      ],
      "metadata": {
        "id": "m9Y4GvCpL98n"
      }
    },
    {
      "cell_type": "code",
      "source": [
        "is_python_easy = True\n",
        "print(is_python_easy)"
      ],
      "metadata": {
        "colab": {
          "base_uri": "https://localhost:8080/"
        },
        "id": "WgZX3LUWL_aA",
        "outputId": "6e26d2d2-eb5b-44aa-d671-fc574c8d53cd"
      },
      "execution_count": null,
      "outputs": [
        {
          "output_type": "stream",
          "name": "stdout",
          "text": [
            "True\n"
          ]
        }
      ]
    },
    {
      "cell_type": "markdown",
      "source": [
        "Comparison Operators:"
      ],
      "metadata": {
        "id": "NGs2izLTMD5G"
      }
    },
    {
      "cell_type": "code",
      "source": [
        "a = 10\n",
        "b = 20\n",
        "print(a < b)\n",
        "print(a == b)"
      ],
      "metadata": {
        "colab": {
          "base_uri": "https://localhost:8080/"
        },
        "id": "s5ZSRayXMGzZ",
        "outputId": "4771e8be-17b9-4871-ea0a-2ff6e2dfd866"
      },
      "execution_count": null,
      "outputs": [
        {
          "output_type": "stream",
          "name": "stdout",
          "text": [
            "True\n",
            "False\n"
          ]
        }
      ]
    },
    {
      "cell_type": "markdown",
      "source": [
        "Logical Operators:"
      ],
      "metadata": {
        "id": "tlYuB4d1MQFk"
      }
    },
    {
      "cell_type": "code",
      "source": [
        "x = 5\n",
        "print(x > 2 and x < 10)\n",
        "print(x < 2 or x > 3)\n",
        "print(not(x > 3))"
      ],
      "metadata": {
        "colab": {
          "base_uri": "https://localhost:8080/"
        },
        "id": "74jtyO3uMQe5",
        "outputId": "af954d3b-5435-46d5-e7af-f6c048b79825"
      },
      "execution_count": null,
      "outputs": [
        {
          "output_type": "stream",
          "name": "stdout",
          "text": [
            "True\n",
            "True\n",
            "False\n"
          ]
        }
      ]
    },
    {
      "cell_type": "markdown",
      "source": [
        "3. List, Tuple, Set, and Dictionary\n",
        "List – Ordered, mutable, allows duplicates"
      ],
      "metadata": {
        "id": "K6Tq8_fzMfXR"
      }
    },
    {
      "cell_type": "code",
      "source": [
        "fruits = [\"apple\", \"banana\", \"cherry\"]\n",
        "fruits.append(\"orange\")\n",
        "print(fruits)"
      ],
      "metadata": {
        "colab": {
          "base_uri": "https://localhost:8080/"
        },
        "id": "SNGVkdNIMgN5",
        "outputId": "d25ab5fd-024c-4848-add9-0baf93d4cd1f"
      },
      "execution_count": null,
      "outputs": [
        {
          "output_type": "stream",
          "name": "stdout",
          "text": [
            "['apple', 'banana', 'cherry', 'orange']\n"
          ]
        }
      ]
    },
    {
      "cell_type": "markdown",
      "source": [
        "Tuple – Ordered, immutable, allows duplicates"
      ],
      "metadata": {
        "id": "hryiguhzMkHG"
      }
    },
    {
      "cell_type": "code",
      "source": [
        "coordinates = (10, 20)\n",
        "print(coordinates[0])"
      ],
      "metadata": {
        "id": "F2Aamd36Mnlm"
      },
      "execution_count": null,
      "outputs": []
    },
    {
      "cell_type": "markdown",
      "source": [
        "Set – Unordered, no duplicates"
      ],
      "metadata": {
        "id": "WJ8dKhGGMrlP"
      }
    },
    {
      "cell_type": "code",
      "source": [
        "unique_numbers = {1, 2, 2, 3}\n",
        "print(unique_numbers)"
      ],
      "metadata": {
        "colab": {
          "base_uri": "https://localhost:8080/"
        },
        "id": "tjzJEjPiMvA8",
        "outputId": "45539c29-fb27-44d8-bd5f-5b8eaa1f31f6"
      },
      "execution_count": null,
      "outputs": [
        {
          "output_type": "stream",
          "name": "stdout",
          "text": [
            "{1, 2, 3}\n"
          ]
        }
      ]
    },
    {
      "cell_type": "markdown",
      "source": [
        "Dictionary – Key-value pairs"
      ],
      "metadata": {
        "id": "BDBXq04oM53J"
      }
    },
    {
      "cell_type": "code",
      "source": [
        "person = {\"name\": \"prabhas\", \"age\": 25}\n",
        "print(person[\"name\"])"
      ],
      "metadata": {
        "colab": {
          "base_uri": "https://localhost:8080/"
        },
        "id": "GxOtk8_LM6qY",
        "outputId": "ce0a74a2-4448-4306-fc75-4155d065e4d2"
      },
      "execution_count": null,
      "outputs": [
        {
          "output_type": "stream",
          "name": "stdout",
          "text": [
            "Alice\n"
          ]
        }
      ]
    },
    {
      "cell_type": "markdown",
      "source": [
        "4. Conditional Statements\n",
        "Used to make decisions based on conditions. Conditional statements are used to perform different actions based on different conditions.\n",
        "They allow your program to make decisions and execute code only when certain conditions are true."
      ],
      "metadata": {
        "id": "MYp6nFOxND0P"
      }
    },
    {
      "cell_type": "code",
      "source": [
        "age = 18\n",
        "if age >= 18:\n",
        "    print(\"You are an adult\")\n",
        "elif age >= 13:\n",
        "    print(\"You are a teenager\")\n",
        "else:\n",
        "    print(\"You are a child\")"
      ],
      "metadata": {
        "id": "YwtK0ikANHEi"
      },
      "execution_count": null,
      "outputs": []
    },
    {
      "cell_type": "markdown",
      "source": [
        "5. Match Case"
      ],
      "metadata": {
        "id": "9gtF1ZJINJ8E"
      }
    },
    {
      "cell_type": "code",
      "source": [
        "language = \"Python\"\n",
        "\n",
        "match language:\n",
        "    case \"Python\":\n",
        "        print(\"You selected Python\")\n",
        "    case \"Java\":\n",
        "        print(\"You selected Java\")\n",
        "    case _:\n",
        "        print(\"Unknown language\")"
      ],
      "metadata": {
        "colab": {
          "base_uri": "https://localhost:8080/"
        },
        "id": "8XuT_P0pNOFp",
        "outputId": "65309103-6f90-4f9c-dbc7-06fe049c2150"
      },
      "execution_count": null,
      "outputs": [
        {
          "output_type": "stream",
          "name": "stdout",
          "text": [
            "You selected Python\n"
          ]
        }
      ]
    }
  ]
}