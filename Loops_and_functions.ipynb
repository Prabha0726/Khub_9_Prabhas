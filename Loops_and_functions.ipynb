{
  "nbformat": 4,
  "nbformat_minor": 0,
  "metadata": {
    "colab": {
      "provenance": [],
      "name": "Loops and functions.ipynb",
      "authorship_tag": "ABX9TyM6QZBNM15vXOKnVmvGkKg9",
      "include_colab_link": true
    },
    "kernelspec": {
      "name": "python3",
      "display_name": "Python 3"
    },
    "language_info": {
      "name": "python"
    }
  },
  "cells": [
    {
      "cell_type": "markdown",
      "metadata": {
        "id": "view-in-github",
        "colab_type": "text"
      },
      "source": [
        "<a href=\"https://colab.research.google.com/github/Prabha0726/Khub_9_Prabhas/blob/main/Loops_and_functions.ipynb\" target=\"_parent\"><img src=\"https://colab.research.google.com/assets/colab-badge.svg\" alt=\"Open In Colab\"/></a>"
      ]
    },
    {
      "cell_type": "markdown",
      "source": [
        "**1 Loops Main Topics**\n",
        "\n",
        " 1. **FOR LOOPS**\n",
        "\n",
        "excute a block of code a fixed number of times\n",
        "\n",
        "* you can iterate aver a range,string,sequence etc\n",
        "\n",
        "syntax:"
      ],
      "metadata": {
        "id": "Rdk4WvXriw4K"
      }
    },
    {
      "cell_type": "markdown",
      "source": [],
      "metadata": {
        "id": "q0CDh47B0NPr"
      }
    },
    {
      "cell_type": "markdown",
      "source": [],
      "metadata": {
        "id": "B6ZTb8uf0kb1"
      }
    },
    {
      "cell_type": "markdown",
      "source": [],
      "metadata": {
        "id": "Ao_FvRYD0Khq"
      }
    },
    {
      "cell_type": "code",
      "source": [
        "for x in range(1,11):\n",
        "  print(x)"
      ],
      "metadata": {
        "colab": {
          "base_uri": "https://localhost:8080/"
        },
        "id": "vpbbVFVZi8GL",
        "outputId": "7e776e67-bcbc-4086-e144-1e3ad002e546"
      },
      "execution_count": null,
      "outputs": [
        {
          "output_type": "stream",
          "name": "stdout",
          "text": [
            "1\n",
            "2\n",
            "3\n",
            "4\n",
            "5\n",
            "6\n",
            "7\n",
            "8\n",
            "9\n",
            "10\n"
          ]
        }
      ]
    },
    {
      "cell_type": "markdown",
      "source": [
        "1. loops through a list:\n",
        "\n",
        "   Looping through a list means executing the same set of instructions for each item in the list, usually to process, modify, or inspect each element one at a time. This is called iteration.\n",
        "\n",
        "The most common way to loop through a list is with a for loop, which directly accesses each element sequentially"
      ],
      "metadata": {
        "id": "et5d-EP3kL1_"
      }
    },
    {
      "cell_type": "code",
      "source": [
        "fruits = [\"apple\", \"banana\", \"cherry\"]\n",
        "for fruit in fruits:\n",
        "    print(fruit)\n"
      ],
      "metadata": {
        "colab": {
          "base_uri": "https://localhost:8080/"
        },
        "id": "lXh8kxwUlvnH",
        "outputId": "d1d30405-9f7c-4770-faa2-b66c34755be4"
      },
      "execution_count": null,
      "outputs": [
        {
          "output_type": "stream",
          "name": "stdout",
          "text": [
            "apple\n",
            "banana\n",
            "cherry\n"
          ]
        }
      ]
    },
    {
      "cell_type": "markdown",
      "source": [
        "2. loops through a string\n",
        "\n",
        "Looping through a string means accessing each character in the string one by one, typically to process, inspect, or transform them. Strings are sequences of characters, so most programming languages allow you to use loops to step through these characters."
      ],
      "metadata": {
        "id": "oCXmKlphl2x4"
      }
    },
    {
      "cell_type": "code",
      "source": [
        "for name in \"prabhas\":\n",
        "  print(name)"
      ],
      "metadata": {
        "colab": {
          "base_uri": "https://localhost:8080/"
        },
        "id": "5pyrzbZdmRMO",
        "outputId": "805868f6-818e-412d-c1b4-9f4852387ab0"
      },
      "execution_count": null,
      "outputs": [
        {
          "output_type": "stream",
          "name": "stdout",
          "text": [
            "p\n",
            "r\n",
            "a\n",
            "b\n",
            "h\n",
            "a\n",
            "s\n"
          ]
        }
      ]
    },
    {
      "cell_type": "markdown",
      "source": [
        "3.  loops through a range\n",
        "\n",
        "Looping through a range means executing a set of instructions for each value within a specified numeric interval, often using a loop structure and a function or expression that generates numbers in the range.\n",
        "\n",
        "In Python, the most common approach is using the range() function with a for loop. The range() function generates a sequence of numbers, and the loop runs once for each number. Here are common forms:\n"
      ],
      "metadata": {
        "id": "5LoT6QHmmbu5"
      }
    },
    {
      "cell_type": "code",
      "source": [
        "for i in range(1,11):\n",
        "  print(i)"
      ],
      "metadata": {
        "colab": {
          "base_uri": "https://localhost:8080/"
        },
        "id": "lbrFUXAkmvwv",
        "outputId": "f73e7134-bc20-43a4-c777-191a2359df57"
      },
      "execution_count": null,
      "outputs": [
        {
          "output_type": "stream",
          "name": "stdout",
          "text": [
            "1\n",
            "2\n",
            "3\n",
            "4\n",
            "5\n",
            "6\n",
            "7\n",
            "8\n",
            "9\n",
            "10\n"
          ]
        }
      ]
    },
    {
      "cell_type": "markdown",
      "source": [
        "4.sum of all numbers in a list\n",
        "\n",
        "The sum of all numbers in a list is the total you get by adding each number together, one at a time. For example, if you have the list [10,, the sum is 10 + 20 + 30 = 60.\n",
        "\n",
        "There are two main ways to get this sum in Python:\n",
        "\n",
        "Using the built-in sum() function\n",
        "The simplest and most efficient way is to use Python’s built-in sum() function:"
      ],
      "metadata": {
        "id": "mcdiCpsXm3SC"
      }
    },
    {
      "cell_type": "code",
      "source": [
        "numbers={1,2,3,4,5}\n",
        "total=0\n",
        "for num in numbers:\n",
        "  total +=num\n",
        "  print(\"total is:\", total)"
      ],
      "metadata": {
        "colab": {
          "base_uri": "https://localhost:8080/"
        },
        "id": "ql-pN4djnInh",
        "outputId": "c50efb89-f23f-4ddd-fcfd-2356da2729bf"
      },
      "execution_count": null,
      "outputs": [
        {
          "output_type": "stream",
          "name": "stdout",
          "text": [
            "total is: 1\n",
            "total is: 3\n",
            "total is: 6\n",
            "total is: 10\n",
            "total is: 15\n"
          ]
        }
      ]
    },
    {
      "cell_type": "markdown",
      "source": [
        "5. loops with break and countinue statements\n",
        "\n",
        "n programming, the break and continue statements are used in loops to control their flow more precisely:\n",
        "\n",
        "break statement: Immediately exits the loop, regardless of the loop condition. This is used when you want to stop the loop as soon as a certain condition is met.\n",
        "\n",
        "continue statement: Skips the rest of the code inside the loop for the current iteration and moves to the next iteration. This is useful for skipping specific cases but allowing the loop to keep running.\n",
        "\n",
        "Example:\n",
        "\n",
        "\n",
        "Example:"
      ],
      "metadata": {
        "id": "cV0PXrOioQfe"
      }
    },
    {
      "cell_type": "code",
      "source": [
        "for i in range(5):\n",
        "    if i == 3:\n",
        "        break\n",
        "    print(i)\n",
        "# Output: 0 1 2\n"
      ],
      "metadata": {
        "id": "5SS9XaNmoWzr"
      },
      "execution_count": null,
      "outputs": []
    },
    {
      "cell_type": "markdown",
      "source": [
        "2. **WHILE LOOPS**\n",
        "\n",
        "A while loop is a control flow statement in programming that repeatedly executes a block of code as long as a specified condition remains true. The condition is evaluated before each iteration, and if it is true, the loop's code block runs. When the condition becomes false, the loop stops and the program moves on."
      ],
      "metadata": {
        "id": "yYiprlhoyHPO"
      }
    },
    {
      "cell_type": "code",
      "source": [
        "i = 1\n",
        "while i <= 5:\n",
        "    print(i)\n",
        "    i += 1\n"
      ],
      "metadata": {
        "id": "zQ_nHVNuyYOa"
      },
      "execution_count": null,
      "outputs": []
    },
    {
      "cell_type": "code",
      "source": [
        "user_input = \"\"\n",
        "while user_input.lower() != \"quit\":\n",
        "    user_input = input(\"Type 'quit' to exit: \")\n",
        "    print(f\"You typed: {user_input}\")\n"
      ],
      "metadata": {
        "id": "qIo3KJ3xycYY"
      },
      "execution_count": null,
      "outputs": []
    },
    {
      "cell_type": "markdown",
      "source": [
        "**4.LOOP WITH \"ELSE\"**\n",
        "\n",
        "In Python, a while loop can be optionally followed by an else block. The else block executes only if the while loop finishes its execution naturally, meaning the loop condition becomes false and it exits without encountering a break statement.\n",
        "\n",
        "How it works:\n",
        "The code under the while loop runs repeatedly as long as the condition is True.\n",
        "\n",
        "If a break statement interrupts the loop, the else block is skipped.\n",
        "\n",
        "If the loop ends because the condition became False (no break), then the else block runs."
      ],
      "metadata": {
        "id": "ZS85hiNxzMu5"
      }
    },
    {
      "cell_type": "code",
      "source": [
        "i = 0\n",
        "while i < 3:\n",
        "    print(i)\n",
        "    i += 1\n",
        "else:\n",
        "    print(\"Loop ended naturally.\")\n"
      ],
      "metadata": {
        "colab": {
          "base_uri": "https://localhost:8080/"
        },
        "id": "HNdHrMBDzZWa",
        "outputId": "bee21285-0e6a-4214-a291-6768f9f3afbe"
      },
      "execution_count": null,
      "outputs": [
        {
          "output_type": "stream",
          "name": "stdout",
          "text": [
            "0\n",
            "1\n",
            "2\n",
            "Loop ended naturally.\n"
          ]
        }
      ]
    },
    {
      "cell_type": "markdown",
      "source": [
        "**5. Nested Loops**\n",
        "\n",
        "Nested loops in Python mean having one loop inside another loop. The \"inner loop\" executes completely for each iteration of the \"outer loop.\" Nested loops can be created using for loops, while loops, or a mixture of both."
      ],
      "metadata": {
        "id": "zgwcSGs30qAG"
      }
    },
    {
      "cell_type": "code",
      "source": [
        "for i in range(1, 3):\n",
        "    for j in range(1, 7):\n",
        "        print(i, j)"
      ],
      "metadata": {
        "colab": {
          "base_uri": "https://localhost:8080/"
        },
        "id": "2Ql8b6G209yu",
        "outputId": "c3d73b48-6f72-4fe8-b3f4-597b3fa29d6d"
      },
      "execution_count": null,
      "outputs": [
        {
          "output_type": "stream",
          "name": "stdout",
          "text": [
            "1 1\n",
            "1 2\n",
            "1 3\n",
            "1 4\n",
            "1 5\n",
            "1 6\n",
            "2 1\n",
            "2 2\n",
            "2 3\n",
            "2 4\n",
            "2 5\n",
            "2 6\n"
          ]
        }
      ]
    },
    {
      "cell_type": "markdown",
      "source": [
        "2. FUNCTIONS MAIN TOPIC"
      ],
      "metadata": {
        "id": "KGvSSXDJ12wx"
      }
    },
    {
      "cell_type": "markdown",
      "source": [
        "1. Defining and Calling Functions\n",
        " What is a Function?\n",
        "A function is a block of reusable code that performs a specific task. Instead of writing the same code multiple times, we define a function and \"call\" it whenever needed.\n",
        "\n",
        " Defining a Function: Using def keyword\n",
        "Syntax:"
      ],
      "metadata": {
        "id": "LTG5m3e42G49"
      }
    },
    {
      "cell_type": "code",
      "source": [
        "def greet():\n",
        "    print(\"Hello, welcome!\")"
      ],
      "metadata": {
        "id": "bjUThzae2doK"
      },
      "execution_count": null,
      "outputs": []
    },
    {
      "cell_type": "markdown",
      "source": [
        "Calling a Function\n",
        "To use a function after defining it, we just call it by its name followed by parentheses ():"
      ],
      "metadata": {
        "id": "2V3DLyMB2jMI"
      }
    },
    {
      "cell_type": "code",
      "source": [
        "def greet():\n",
        "    print(\"Hello, welcome!\")"
      ],
      "metadata": {
        "id": "8dlMRhJH2lIV"
      },
      "execution_count": null,
      "outputs": []
    },
    {
      "cell_type": "code",
      "source": [
        "greet()"
      ],
      "metadata": {
        "colab": {
          "base_uri": "https://localhost:8080/"
        },
        "id": "mQI1osMJ2rlL",
        "outputId": "eb2b88a6-1d59-4a9d-9e2b-d390eb82bae7"
      },
      "execution_count": null,
      "outputs": [
        {
          "output_type": "stream",
          "name": "stdout",
          "text": [
            "Hello, welcome!\n"
          ]
        }
      ]
    },
    {
      "cell_type": "markdown",
      "source": [
        "2. Understanding return Statement\n",
        "The return statement is used to send back a result from a function to the caller."
      ],
      "metadata": {
        "id": "Yep_d7ti3MyL"
      }
    },
    {
      "cell_type": "markdown",
      "source": [
        "Without return:"
      ],
      "metadata": {
        "id": "EzvtTZEH3SM3"
      }
    },
    {
      "cell_type": "code",
      "source": [
        "def add(a, b):\n",
        "    print(a + b)\n",
        "\n",
        "add(3, 5)"
      ],
      "metadata": {
        "colab": {
          "base_uri": "https://localhost:8080/"
        },
        "id": "6q-COImd3Uaq",
        "outputId": "5e594600-7c0a-4449-fb9c-adb1a68c0d51"
      },
      "execution_count": null,
      "outputs": [
        {
          "output_type": "stream",
          "name": "stdout",
          "text": [
            "8\n"
          ]
        }
      ]
    },
    {
      "cell_type": "markdown",
      "source": [
        "With return:"
      ],
      "metadata": {
        "id": "SPURYH703cAc"
      }
    },
    {
      "cell_type": "code",
      "source": [
        "def add(a, b):\n",
        "    return a + b\n",
        "\n",
        "result = add(3, 5)\n",
        "print(result)"
      ],
      "metadata": {
        "id": "7a7F6sG13hbM"
      },
      "execution_count": null,
      "outputs": []
    },
    {
      "cell_type": "markdown",
      "source": [
        " 2. Function Arguments\n",
        "When you call a function, you can pass data to it using arguments. There are several ways to do this:"
      ],
      "metadata": {
        "id": "nvo0fEup3zvO"
      }
    },
    {
      "cell_type": "markdown",
      "source": [
        "1. Positional Arguments\n",
        "These are the most common type — values are assigned to parameters in order."
      ],
      "metadata": {
        "id": "ANoqXNrm333x"
      }
    },
    {
      "cell_type": "code",
      "source": [
        "def greet(name, age):\n",
        "    print(f\"Hello {name}, you are {age} years old.\")\n",
        "\n",
        "greet(\"Alice\", 25)"
      ],
      "metadata": {
        "id": "HoAZ0Zz-36yA"
      },
      "execution_count": null,
      "outputs": []
    },
    {
      "cell_type": "markdown",
      "source": [
        "2. Default Arguments\n",
        "You can provide default values in the function definition. If no value is passed, the default is used."
      ],
      "metadata": {
        "id": "EjiK6kxF39cB"
      }
    },
    {
      "cell_type": "code",
      "source": [
        "def greet(name=\"Guest\"):\n",
        "    print(f\"Hello {name}!\")\n",
        "\n",
        "greet()\n",
        "greet(\"Ravi\")"
      ],
      "metadata": {
        "id": "XBKpcCuP3_64"
      },
      "execution_count": null,
      "outputs": []
    },
    {
      "cell_type": "markdown",
      "source": [
        " 3. Keyword Arguments\n",
        "You can specify arguments using the parameter name, making order less important."
      ],
      "metadata": {
        "id": "DEVw7p2n4K1S"
      }
    },
    {
      "cell_type": "code",
      "source": [
        "def greet(name, age):\n",
        "    print(f\"{name} is {age} years old.\")\n",
        "\n",
        "greet(age=30, name=\"John\")"
      ],
      "metadata": {
        "id": "kWsmFAqB4MmF"
      },
      "execution_count": null,
      "outputs": []
    },
    {
      "cell_type": "markdown",
      "source": [
        "4. *args – Variable Number of Positional Arguments\n",
        "*args lets you pass any number of positional arguments to a function. It collects them into a tuple."
      ],
      "metadata": {
        "id": "qhHkQY_c4ZIk"
      }
    },
    {
      "cell_type": "markdown",
      "source": [],
      "metadata": {
        "id": "GcsmwKuC4a0V"
      }
    },
    {
      "cell_type": "code",
      "source": [
        "def add_numbers(*args):\n",
        "    total = sum(args)\n",
        "    print(\"Sum:\", total)\n",
        "\n",
        "add_numbers(2, 3, 5)\n",
        "add_numbers(1, 2, 3, 4, 5)"
      ],
      "metadata": {
        "colab": {
          "base_uri": "https://localhost:8080/"
        },
        "id": "2PpEZBGk4a5o",
        "outputId": "3077d14e-8d5b-4b9b-e4ef-380aaecd0e4a"
      },
      "execution_count": null,
      "outputs": [
        {
          "output_type": "stream",
          "name": "stdout",
          "text": [
            "Sum: 10\n",
            "Sum: 15\n"
          ]
        }
      ]
    },
    {
      "cell_type": "markdown",
      "source": [
        "5. **kwargs – Variable Number of Keyword Arguments\n",
        "**kwargs allows you to pass any number of keyword arguments, collected into a dictionary."
      ],
      "metadata": {
        "id": "biWni6fw4nay"
      }
    },
    {
      "cell_type": "code",
      "source": [
        "def print_info(**kwargs):\n",
        "    for key, value in kwargs.items():\n",
        "        print(f\"{key} = {value}\")\n",
        "\n",
        "print_info(name=\"Alice\", age=28, country=\"India\")"
      ],
      "metadata": {
        "colab": {
          "base_uri": "https://localhost:8080/"
        },
        "id": "ifnBCn4v4pj7",
        "outputId": "d46101ca-1605-4789-9fca-c28c1a4d22e8"
      },
      "execution_count": null,
      "outputs": [
        {
          "output_type": "stream",
          "name": "stdout",
          "text": [
            "name = Alice\n",
            "age = 28\n",
            "country = India\n"
          ]
        }
      ]
    },
    {
      "cell_type": "markdown",
      "source": [
        " 3. Scope of Variables\n",
        "Scope refers to the region of the program where a variable is accessible.\n",
        "\n",
        " . Local Variables\n",
        "Defined inside a function.\n",
        "\n",
        "Can only be used within that function.\n",
        "\n",
        "Created when the function is called, and destroyed when it ends."
      ],
      "metadata": {
        "id": "b1bweyFf415e"
      }
    },
    {
      "cell_type": "code",
      "source": [
        "def greet():\n",
        "    name = \"Alice\"  # local variable\n",
        "    print(\"Hello\", name)\n",
        "\n",
        "greet()\n",
        "# print(name)  ❌ Error: name is not defined outside the function"
      ],
      "metadata": {
        "colab": {
          "base_uri": "https://localhost:8080/"
        },
        "id": "2yKM5x0b498a",
        "outputId": "1e49c967-7b6c-4b2b-e6c9-f2e0ee272b5c"
      },
      "execution_count": null,
      "outputs": [
        {
          "output_type": "stream",
          "name": "stdout",
          "text": [
            "Hello Alice\n"
          ]
        }
      ]
    },
    {
      "cell_type": "markdown",
      "source": [
        "2. Global Variables\n",
        "Defined outside of all functions.\n",
        "\n",
        "Can be accessed anywhere in the program.\n",
        "\n",
        "Can be read inside functions, but to modify them, you need the global keyword.\n",
        "\n",
        "Example:"
      ],
      "metadata": {
        "id": "hDDWkrJE5Bgn"
      }
    },
    {
      "cell_type": "code",
      "source": [
        "name = \"Bob\"  # global variable\n",
        "\n",
        "def greet():\n",
        "    print(\"Hello\", name)\n",
        "\n",
        "greet()\n",
        "print(name)"
      ],
      "metadata": {
        "id": "E4OsKjng5Dua"
      },
      "execution_count": null,
      "outputs": []
    },
    {
      "cell_type": "markdown",
      "source": [
        "4. Lambda Functions (Anonymous Functions)\n",
        ".\n",
        "\n",
        " What is a Lambda Function?\n",
        "A lambda function is a small, anonymous (unnamed) function defined using the lambda keyword. It is used when you need a short function for a short time — often just one line."
      ],
      "metadata": {
        "id": "iOLw9fLs5Vrx"
      }
    },
    {
      "cell_type": "code",
      "source": [
        "\n",
        "def square(x):\n",
        "    return x * x\n",
        "\n",
        "\n",
        "square = lambda x: x * x\n",
        "\n",
        "print(square(5))"
      ],
      "metadata": {
        "id": "LPd9Cvzy5ckU"
      },
      "execution_count": null,
      "outputs": []
    },
    {
      "cell_type": "markdown",
      "source": [
        "Using Lambda with map()\n",
        "\n",
        "\n",
        " map(function, iterable)\n",
        "Applies a function to each item in an iterable (like a list)."
      ],
      "metadata": {
        "id": "W7T0Ypiz5pap"
      }
    },
    {
      "cell_type": "code",
      "source": [
        "nums = [1, 2, 3, 4]\n",
        "\n",
        "squares = list(map(lambda x: x * x, nums))\n",
        "print(squares)"
      ],
      "metadata": {
        "id": "xPD_GpfO5shp"
      },
      "execution_count": null,
      "outputs": []
    },
    {
      "cell_type": "markdown",
      "source": [
        "Using Lambda with filter()\n",
        "\n",
        "\n",
        " filter(function, iterable)\n",
        "Filters items where the function returns True."
      ],
      "metadata": {
        "id": "YgAs_Ust5yJd"
      }
    },
    {
      "cell_type": "code",
      "source": [
        "nums = [1, 2, 3, 4, 5, 6]\n",
        "\n",
        "evens = list(filter(lambda x: x % 2 == 0, nums))\n",
        "print(evens)"
      ],
      "metadata": {
        "id": "bKOp59eV50PB"
      },
      "execution_count": null,
      "outputs": []
    },
    {
      "cell_type": "markdown",
      "source": [
        "Using Lambda with sorted()\n",
        "You can use a lambda to sort based on custom criteria."
      ],
      "metadata": {
        "id": "cFIuWHbB5570"
      }
    },
    {
      "cell_type": "code",
      "source": [
        "names = [\"Alice\", \"Bob\", \"Charlie\", \"David\"]\n",
        "\n",
        "\n",
        "sorted_names = sorted(names, key=lambda name: len(name))\n",
        "print(sorted_names)  # Output: ['Bob', 'Alice', 'David', 'Charlie']"
      ],
      "metadata": {
        "id": "7r6zKbsE57Wx"
      },
      "execution_count": null,
      "outputs": []
    }
  ]
}