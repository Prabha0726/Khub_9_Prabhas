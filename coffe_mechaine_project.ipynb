{
  "nbformat": 4,
  "nbformat_minor": 0,
  "metadata": {
    "colab": {
      "provenance": [],
      "toc_visible": true,
      "authorship_tag": "ABX9TyPZuycSwcNWXnGWMHMiylmT",
      "include_colab_link": true
    },
    "kernelspec": {
      "name": "python3",
      "display_name": "Python 3"
    },
    "language_info": {
      "name": "python"
    }
  },
  "cells": [
    {
      "cell_type": "markdown",
      "metadata": {
        "id": "view-in-github",
        "colab_type": "text"
      },
      "source": [
        "<a href=\"https://colab.research.google.com/github/Prabha0726/Khub_9_Prabhas/blob/main/coffe_mechaine_project.ipynb\" target=\"_parent\"><img src=\"https://colab.research.google.com/assets/colab-badge.svg\" alt=\"Open In Colab\"/></a>"
      ]
    },
    {
      "cell_type": "code",
      "execution_count": null,
      "metadata": {
        "id": "2Gn1W89F9fgE"
      },
      "outputs": [],
      "source": [
        "# Initial resources in the coffee machine\n",
        "resources = {\n",
        "    \"water\": 300,   # in ml\n",
        "    \"milk\": 200,    # in ml\n",
        "    \"coffee\": 100,  # in g\n",
        "    \"money\": 0.0    # in $\n",
        "}\n",
        "\n",
        "# Recipes and cost for each drink\n",
        "MENU = {\n",
        "    \"espresso\": {\n",
        "        \"ingredients\": {\"water\": 50, \"coffee\": 18, \"milk\": 0},\n",
        "        \"cost\": 1.5\n",
        "    },\n",
        "    \"latte\": {\n",
        "        \"ingredients\": {\"water\": 200, \"milk\": 150, \"coffee\": 24},\n",
        "        \"cost\": 2.5\n",
        "    },\n",
        "    \"cappuccino\": {\n",
        "        \"ingredients\": {\"water\": 250, \"milk\": 100, \"coffee\": 24},\n",
        "        \"cost\": 3.0\n",
        "    }\n",
        "}\n",
        "\n",
        "def is_resource_sufficient(order_ingredients):\n",
        "    \"\"\"Returns True if resources are sufficient, else returns False and prints reason.\"\"\"\n",
        "    for item in order_ingredients:\n",
        "        if resources[item] < order_ingredients[item]:\n",
        "            print(f\"Sorry there is not enough {item}.\")\n",
        "            return False\n",
        "    return True\n",
        "\n",
        "def process_coins():\n",
        "    \"\"\"Returns the total calculated from inserted coins.\"\"\"\n",
        "    print(\"Please insert coins.\")\n",
        "    quarters = int(input(\"How many quarters? \"))\n",
        "    dimes = int(input(\"How many dimes? \"))\n",
        "    nickles = int(input(\"How many nickles? \"))\n",
        "    pennies = int(input(\"How many pennies? \"))\n",
        "    total = quarters * 0.25 + dimes * 0.10 + nickles * 0.05 + pennies\n"
      ]
    }
  ]
}